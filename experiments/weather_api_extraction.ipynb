{
 "cells": [
  {
   "cell_type": "code",
   "execution_count": null,
   "metadata": {},
   "outputs": [
    {
     "name": "stdout",
     "output_type": "stream",
     "text": [
      "Error fetching data: 401 - {\"error\":{\"code\":1002,\"message\":\"API key is invalid or not provided.\"}}\n",
      "Empty DataFrame\n",
      "Columns: []\n",
      "Index: []\n"
     ]
    },
    {
     "name": "stderr",
     "output_type": "stream",
     "text": [
      "/var/folders/k5/0ckgxv2x46n7_p0qwn2h0hhh0000gn/T/ipykernel_58865/1887099356.py:23: DeprecationWarning: datetime.datetime.utcnow() is deprecated and scheduled for removal in a future version. Use timezone-aware objects to represent datetimes in UTC: datetime.datetime.now(datetime.UTC).\n",
      "  yesterday = (datetime.utcnow() - timedelta(days=1)).strftime('%Y-%m-%d')\n"
     ]
    }
   ],
   "source": [
    "import os\n",
    "import requests\n",
    "import pandas as pd\n",
    "from dotenv import load_dotenv\n",
    "from datetime import datetime, timedelta\n",
    "\n",
    "# Load environment variables\n",
    "load_dotenv()\n",
    "API_KEY = '7781c628db944d3dbd8185950252402'\n",
    "BASE_URL = \"http://api.weatherapi.com/v1/history.json\"\n",
    "\n",
    "def get_last_24h_weather(city: str):\n",
    "    \"\"\"\n",
    "    Fetch the last 24 hours of hourly weather data for a given city.\n",
    "\n",
    "    Args:\n",
    "        city (str): City name (e.g., \"London\").\n",
    "\n",
    "    Returns:\n",
    "        pd.DataFrame: Weather data for the last 24 hours.\n",
    "    \"\"\"\n",
    "    # Get yesterday's date (since history API doesn't support live past 24h)\n",
    "    yesterday = (datetime.utcnow() - timedelta(days=1)).strftime('%Y-%m-%d')\n",
    "    \n",
    "    params = {\n",
    "        \"key\": API_KEY,\n",
    "        \"q\": city,\n",
    "        \"dt\": yesterday,\n",
    "    }\n",
    "\n",
    "    response = requests.get(BASE_URL, params=params)\n",
    "\n",
    "    if response.status_code == 200:\n",
    "        data = response.json()\n",
    "        hourly_data = data[\"forecast\"][\"forecastday\"][0][\"hour\"]\n",
    "        \n",
    "        # Convert to DataFrame\n",
    "        df = pd.DataFrame(hourly_data)\n",
    "        df[\"time\"] = pd.to_datetime(df[\"time\"])\n",
    "        \n",
    "        # Select relevant columns\n",
    "        df = df[[\"time\", \"temp_c\", \"humidity\", \"condition\"]]\n",
    "        df[\"weather_description\"] = df[\"condition\"].apply(lambda x: x[\"text\"])\n",
    "        df.drop(columns=[\"condition\"], inplace=True)\n",
    "\n",
    "        return df\n",
    "\n",
    "    else:\n",
    "        print(f\"Error fetching data: {response.status_code} - {response.text}\")\n",
    "        return pd.DataFrame()\n",
    "\n",
    "# Get weather for London\n",
    "df_weather = get_last_24h_weather(\"London\")\n",
    "\n",
    "# Display DataFrame\n",
    "\n",
    "print(df_weather)"
   ]
  },
  {
   "cell_type": "code",
   "execution_count": 12,
   "metadata": {},
   "outputs": [],
   "source": [
    "load_dotenv()\n",
    "API_KEY = os.getenv(\"WEATHERAPI_KEY\")  # Ensure the variable name matches the .env file\n"
   ]
  },
  {
   "cell_type": "code",
   "execution_count": 13,
   "metadata": {},
   "outputs": [
    {
     "name": "stdout",
     "output_type": "stream",
     "text": [
      "Loaded API Key: None\n"
     ]
    }
   ],
   "source": [
    "print(f\"Loaded API Key: {API_KEY}\")\n"
   ]
  }
 ],
 "metadata": {
  "kernelspec": {
   "display_name": "Python 3",
   "language": "python",
   "name": "python3"
  },
  "language_info": {
   "codemirror_mode": {
    "name": "ipython",
    "version": 3
   },
   "file_extension": ".py",
   "mimetype": "text/x-python",
   "name": "python",
   "nbconvert_exporter": "python",
   "pygments_lexer": "ipython3",
   "version": "3.12.3"
  }
 },
 "nbformat": 4,
 "nbformat_minor": 2
}
