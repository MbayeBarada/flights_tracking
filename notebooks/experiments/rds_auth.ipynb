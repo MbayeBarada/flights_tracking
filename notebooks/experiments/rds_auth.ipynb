{
 "cells": [
  {
   "cell_type": "code",
   "execution_count": 1,
   "metadata": {},
   "outputs": [],
   "source": [
    "from sqlalchemy.engine import URL, Engine\n",
    "from sqlalchemy import create_engine, Table, MetaData, Column\n",
    "from sqlalchemy.dialects import postgresql\n",
    "from sqlalchemy import Table, MetaData, Column, Integer, String, Float"
   ]
  },
  {
   "cell_type": "code",
   "execution_count": 3,
   "metadata": {},
   "outputs": [
    {
     "data": {
      "text/plain": [
       "<sqlalchemy.engine.base.Connection at 0x1167420a0>"
      ]
     },
     "execution_count": 3,
     "metadata": {},
     "output_type": "execute_result"
    }
   ],
   "source": [
    "connection_url = URL.create(\n",
    "            drivername=\"postgresql+pg8000\",\n",
    "            username=\"postgres\",\n",
    "            password=\"postgres\",\n",
    "            host=\"db-test.cjeesaow22lr.eu-central-1.rds.amazonaws.com\",\n",
    "            port=5432,\n",
    "            database=\"postgres\",\n",
    "            #query={\"sslmode\": \"require\"}\n",
    "        )\n",
    "\n",
    "engine = create_engine(connection_url)\n",
    "\n",
    "engine.connect()"
   ]
  },
  {
   "cell_type": "code",
   "execution_count": null,
   "metadata": {},
   "outputs": [],
   "source": []
  },
  {
   "cell_type": "code",
   "execution_count": null,
   "metadata": {},
   "outputs": [],
   "source": []
  }
 ],
 "metadata": {
  "kernelspec": {
   "display_name": "de_venv",
   "language": "python",
   "name": "python3"
  },
  "language_info": {
   "codemirror_mode": {
    "name": "ipython",
    "version": 3
   },
   "file_extension": ".py",
   "mimetype": "text/x-python",
   "name": "python",
   "nbconvert_exporter": "python",
   "pygments_lexer": "ipython3",
   "version": "3.9.21"
  },
  "orig_nbformat": 4
 },
 "nbformat": 4,
 "nbformat_minor": 2
}
