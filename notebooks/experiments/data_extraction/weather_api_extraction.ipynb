{
 "cells": [
  {
   "cell_type": "code",
   "execution_count": 1,
   "metadata": {},
   "outputs": [
    {
     "name": "stdout",
     "output_type": "stream",
     "text": [
      "API key loaded successfully.\n",
      "                 time  temp_c  humidity weather_description\n",
      "0 2025-03-02 00:00:00     4.2        74               Clear\n",
      "1 2025-03-02 01:00:00     4.0        74              Cloudy\n",
      "2 2025-03-02 02:00:00     3.8        75               Clear\n",
      "3 2025-03-02 03:00:00     3.4        76       Partly cloudy\n",
      "4 2025-03-02 04:00:00     3.3        76       Partly cloudy\n",
      "5 2025-03-02 05:00:00     3.1        77               Clear\n",
      "6 2025-03-02 06:00:00     2.8        78               Clear\n",
      "7 2025-03-02 07:00:00     2.6        78               Sunny\n",
      "8 2025-03-02 08:00:00     3.5        73               Sunny\n",
      "9 2025-03-02 09:00:00     4.9        65               Sunny\n"
     ]
    }
   ],
   "source": [
    "import os\n",
    "import requests\n",
    "import pandas as pd\n",
    "from dotenv import load_dotenv\n",
    "from datetime import datetime, timedelta, timezone\n",
    "\n",
    "# Load environment variables\n",
    "load_dotenv()\n",
    "API_KEY = os.getenv(\"WEATHERAPI_KEY\")  # Ensure correct variable name\n",
    "BASE_URL = \"http://api.weatherapi.com/v1/history.json\"\n",
    "\n",
    "def get_last_24h_weather(city: str):\n",
    "    \"\"\"\n",
    "    Fetch the last 24 hours of hourly weather data for a given city.\n",
    "\n",
    "    Args:\n",
    "        city (str): City name (e.g., \"London\").\n",
    "\n",
    "    Returns:\n",
    "        pd.DataFrame: Weather data for the last 24 hours.\n",
    "    \"\"\"\n",
    "    # Fix: Use timezone-aware datetime\n",
    "    yesterday = (datetime.now(timezone.utc) - timedelta(days=1)).strftime('%Y-%m-%d')\n",
    "    \n",
    "    params = {\n",
    "        \"key\": API_KEY,\n",
    "        \"q\": city,\n",
    "        \"dt\": yesterday,\n",
    "    }\n",
    "\n",
    "    response = requests.get(BASE_URL, params=params)\n",
    "\n",
    "    if response.status_code == 200:\n",
    "        data = response.json()\n",
    "        hourly_data = data[\"forecast\"][\"forecastday\"][0][\"hour\"]\n",
    "        \n",
    "        # Convert to DataFrame\n",
    "        df = pd.DataFrame(hourly_data)\n",
    "        df[\"time\"] = pd.to_datetime(df[\"time\"])\n",
    "        \n",
    "        # Select relevant columns\n",
    "        df = df[[\"time\", \"temp_c\", \"humidity\", \"condition\"]]\n",
    "        df[\"weather_description\"] = df[\"condition\"].apply(lambda x: x[\"text\"])\n",
    "        df.drop(columns=[\"condition\"], inplace=True)\n",
    "\n",
    "        return df\n",
    "\n",
    "    else:\n",
    "        print(f\"Error fetching data: {response.status_code} - {response.text}\")\n",
    "        return pd.DataFrame()\n",
    "\n",
    "# Test API Key\n",
    "if not API_KEY:\n",
    "    print(\"Error: API key not loaded. Check .env file.\")\n",
    "else:\n",
    "    print(\"API key loaded successfully.\")\n",
    "\n",
    "# Get weather for London\n",
    "df_weather = get_last_24h_weather(\"London\")\n",
    "\n",
    "# Display DataFrame\n",
    "print(df_weather.head(10))"
   ]
  }
 ],
 "metadata": {
  "kernelspec": {
   "display_name": "Python 3",
   "language": "python",
   "name": "python3"
  },
  "language_info": {
   "codemirror_mode": {
    "name": "ipython",
    "version": 3
   },
   "file_extension": ".py",
   "mimetype": "text/x-python",
   "name": "python",
   "nbconvert_exporter": "python",
   "pygments_lexer": "ipython3",
   "version": "3.12.3"
  }
 },
 "nbformat": 4,
 "nbformat_minor": 2
}
